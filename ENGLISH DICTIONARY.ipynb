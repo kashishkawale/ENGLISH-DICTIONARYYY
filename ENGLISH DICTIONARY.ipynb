{
 "cells": [
  {
   "cell_type": "code",
   "execution_count": 1,
   "id": "91c314b0-f1e1-4743-a48a-340d5d69ac4f",
   "metadata": {},
   "outputs": [],
   "source": [
    "import tkinter as tk\n",
    "from tkinter import messagebox\n",
    "import requests\n",
    "\n",
    "def get_meaning(word):\n",
    "    word = word.lower()\n",
    "    url = f\"https://api.dictionaryapi.dev/api/v2/entries/en/{word}\"\n",
    "    response = requests.get(url)\n",
    "    if response.status_code == 200:\n",
    "        data = response.json()\n",
    "        meanings = []\n",
    "        for item in data[0][\"meanings\"]:\n",
    "            meanings.append(item[\"definitions\"][0][\"definition\"])\n",
    "        return meanings\n",
    "    else:\n",
    "        return [\"Sorry, the word is not in the dictionary\"]\n",
    "\n",
    "def search_word():\n",
    "    word = entry.get()\n",
    "    meanings = get_meaning(word)\n",
    "    text_area.delete('1.0', tk.END)\n",
    "    text_area.insert(tk.END, \"Meaning(s):\\n\")\n",
    "    for i, meaning in enumerate(meanings, start=1):\n",
    "        text_area.insert(tk.END, f\"{i}. {meaning}\\n\")\n",
    "\n",
    "def quit_window():\n",
    "    root.destroy()\n",
    "\n",
    "root = tk.Tk()\n",
    "root.title(\"Dictionary API\")\n",
    "\n",
    "label = tk.Label(root, text=\"Enter a word:\")\n",
    "label.pack()\n",
    "\n",
    "entry = tk.Entry(root)\n",
    "entry.pack()\n",
    "\n",
    "button_frame = tk.Frame(root)\n",
    "button_frame.pack()\n",
    "\n",
    "search_button = tk.Button(button_frame, text=\"Search\", command=search_word)\n",
    "search_button.pack(side=tk.LEFT)\n",
    "\n",
    "quit_button = tk.Button(button_frame, text=\"Quit\", command=quit_window)\n",
    "quit_button.pack(side=tk.LEFT)\n",
    "\n",
    "text_area = tk.Text(root)\n",
    "text_area.pack()\n",
    "\n",
    "root.mainloop()"
   ]
  },
  {
   "cell_type": "code",
   "execution_count": null,
   "id": "36d1c96a-982e-4661-b134-b5440af17f1c",
   "metadata": {},
   "outputs": [],
   "source": []
  }
 ],
 "metadata": {
  "kernelspec": {
   "display_name": "Python 3 (ipykernel)",
   "language": "python",
   "name": "python3"
  },
  "language_info": {
   "codemirror_mode": {
    "name": "ipython",
    "version": 3
   },
   "file_extension": ".py",
   "mimetype": "text/x-python",
   "name": "python",
   "nbconvert_exporter": "python",
   "pygments_lexer": "ipython3",
   "version": "3.13.5"
  }
 },
 "nbformat": 4,
 "nbformat_minor": 5
}
